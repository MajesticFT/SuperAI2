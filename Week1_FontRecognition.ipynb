{
  "nbformat": 4,
  "nbformat_minor": 0,
  "metadata": {
    "colab": {
      "name": "Week1_FontRecognition",
      "provenance": [],
      "collapsed_sections": [],
      "toc_visible": true,
      "include_colab_link": true
    },
    "kernelspec": {
      "name": "python3",
      "display_name": "Python 3"
    },
    "language_info": {
      "name": "python"
    },
    "accelerator": "GPU"
  },
  "cells": [
    {
      "cell_type": "markdown",
      "metadata": {
        "id": "view-in-github",
        "colab_type": "text"
      },
      "source": [
        "<a href=\"https://colab.research.google.com/github/MajesticFT/SuperAI2/blob/main/Week1_FontRecognition.ipynb\" target=\"_parent\"><img src=\"https://colab.research.google.com/assets/colab-badge.svg\" alt=\"Open In Colab\"/></a>"
      ]
    },
    {
      "cell_type": "markdown",
      "source": [
        "Import Library"
      ],
      "metadata": {
        "id": "T6HyWVJeBVuk"
      }
    },
    {
      "cell_type": "code",
      "execution_count": null,
      "metadata": {
        "id": "bUVB41iwmYjS"
      },
      "outputs": [],
      "source": [
        "import tensorflow as tf\n",
        "import keras, os\n",
        "from tensorflow.keras import regularizers, optimizers\n",
        "from tensorflow.keras.models import Sequential\n",
        "from tensorflow.keras.layers import Dropout, Dense, Activation, BatchNormalization,Flatten, MaxPooling2D, Conv2D\n",
        "from tensorflow.keras.preprocessing.image import ImageDataGenerator\n",
        "import numpy as np\n",
        "import cv2\n",
        "from tqdm import tqdm\n",
        "import pandas as pd"
      ]
    },
    {
      "cell_type": "code",
      "source": [
        "from google.colab import drive\n",
        "drive.mount('/content/drive')"
      ],
      "metadata": {
        "id": "JNOA9ICoHnOp",
        "colab": {
          "base_uri": "https://localhost:8080/"
        },
        "outputId": "a2714b71-5538-4ed8-a5ef-18e1d737988a"
      },
      "execution_count": null,
      "outputs": [
        {
          "output_type": "stream",
          "name": "stdout",
          "text": [
            "Mounted at /content/drive\n"
          ]
        }
      ]
    },
    {
      "cell_type": "code",
      "source": [
        "!unzip -q '/content/drive/Shareddrives/FontRecog/resized.zip'\n",
        "!unzip -q '/content/drive/Shareddrives/FontRecog/crop_t.zip'"
      ],
      "metadata": {
        "colab": {
          "base_uri": "https://localhost:8080/"
        },
        "id": "hjyi24xEqbf5",
        "outputId": "9e7b53cd-f727-45b1-f438-9fba2dd1ecc5"
      },
      "execution_count": null,
      "outputs": [
        {
          "output_type": "stream",
          "name": "stdout",
          "text": [
            "warning [/content/drive/Shareddrives/FontRecog/resized.zip]:  76 extra bytes at beginning or within zipfile\n",
            "  (attempting to process anyway)\n",
            "error [/content/drive/Shareddrives/FontRecog/resized.zip]:  reported length of central directory is\n",
            "  -76 bytes too long (Atari STZip zipfile?  J.H.Holm ZIPSPLIT 1.1\n",
            "  zipfile?).  Compensating...\n",
            "error:  expected central file header signature not found (file #129720).\n",
            "  (please check that you have transferred or created the zipfile in the\n",
            "  appropriate BINARY mode and that you have compiled UnZip properly)\n"
          ]
        }
      ]
    },
    {
      "cell_type": "code",
      "source": [
        "id_test = pd.read_csv('/content/drive/Shareddrives/FontRecog/id_test.csv')\n",
        "id_test['id']=id_test['id'].apply(lambda x: x+'.png')\n",
        "print(id_test.head(5))"
      ],
      "metadata": {
        "colab": {
          "base_uri": "https://localhost:8080/"
        },
        "id": "J-EjcV3CjoJs",
        "outputId": "993de363-4e80-42ae-cdf4-8fdb9483ee42"
      },
      "execution_count": null,
      "outputs": [
        {
          "output_type": "stream",
          "name": "stdout",
          "text": [
            "             id\n",
            "0  b68ab614.png\n",
            "1  2d3a3417.png\n",
            "2  b9b73e2d.png\n",
            "3  1d8598b0.png\n",
            "4  6626584d.png\n"
          ]
        }
      ]
    },
    {
      "cell_type": "code",
      "source": [
        "\n",
        "stats = pd.read_csv('/content/drive/Shareddrives/FontRecog/stats.csv')\n",
        "stats['id']=stats['id'].apply(lambda x: x+'.png')\n",
        "stats_font=stats[['id', 'font']]\n",
        "print(stats_font.head(5))"
      ],
      "metadata": {
        "colab": {
          "base_uri": "https://localhost:8080/"
        },
        "id": "IK8W1VGD7atd",
        "outputId": "9d32cf4f-3946-4f4f-a7a0-b30439092d72"
      },
      "execution_count": null,
      "outputs": [
        {
          "output_type": "stream",
          "name": "stdout",
          "text": [
            "             id                     font\n",
            "0  100045cf.png     FC_Knomphing_Regular\n",
            "1  10006750.png  DM_Shining_Star_Regular\n",
            "2  1000bc2d.png               fonttintin\n",
            "3  10019de9.png               TH_Sarabun\n",
            "4  1001fcf9.png               fonttintin\n"
          ]
        }
      ]
    },
    {
      "cell_type": "code",
      "source": [
        "print(stats_font['font'].unique())"
      ],
      "metadata": {
        "colab": {
          "base_uri": "https://localhost:8080/"
        },
        "id": "6Bpbmpp5UyKl",
        "outputId": "65758002-49d5-42f3-bb7c-9a5d8bafdb5c"
      },
      "execution_count": null,
      "outputs": [
        {
          "output_type": "stream",
          "name": "stdout",
          "text": [
            "['FC_Knomphing_Regular' 'DM_Shining_Star_Regular' 'fonttintin'\n",
            " 'TH_Sarabun' 'Cordia_New' 'Angsana_New' 'TH_Chakra_Petch' 'Kunlasatri'\n",
            " 'TH_Charm_of_AU' 'TH_Mali_Grade6']\n"
          ]
        }
      ]
    },
    {
      "cell_type": "markdown",
      "source": [
        "# Font"
      ],
      "metadata": {
        "id": "qWM-jrRm8A96"
      }
    },
    {
      "cell_type": "code",
      "source": [
        "datagen=ImageDataGenerator(rescale=1./255., validation_split=0.25)\n",
        "test_datagen=ImageDataGenerator(rescale=1./255.)\n",
        "directory = '/content/resized'"
      ],
      "metadata": {
        "id": "e60D2wWWTzZV"
      },
      "execution_count": null,
      "outputs": []
    },
    {
      "cell_type": "markdown",
      "source": [
        "Import Data into model using ImageDataGenerator"
      ],
      "metadata": {
        "id": "6z7oawhu9Pn_"
      }
    },
    {
      "cell_type": "code",
      "source": [
        "train_generator=datagen.flow_from_dataframe(\n",
        "dataframe=stats_font,\n",
        "directory=directory,\n",
        "x_col=\"id\",\n",
        "y_col='font',\n",
        "batch_size=256,\n",
        "seed=42,\n",
        "subset='training',\n",
        "color_mode='grayscale',\n",
        "class_mode=\"sparse\",\n",
        "shuffle=True,\n",
        "target_size=(112,112))\n",
        "\n",
        "valid_generator=datagen.flow_from_dataframe(\n",
        "dataframe=stats_font,\n",
        "directory=directory,\n",
        "x_col='id',\n",
        "y_col='font',\n",
        "color_mode='grayscale',\n",
        "subset='validation',\n",
        "batch_size=256,\n",
        "seed=42,\n",
        "shuffle=True,\n",
        "class_mode=\"sparse\",\n",
        "target_size=(112,112))\n",
        "\n",
        "test_generator=test_datagen.flow_from_dataframe(\n",
        "dataframe=id_test,\n",
        "directory='/content/crop_t',\n",
        "x_col=\"id\",\n",
        "y_col=None,\n",
        "color_mode='grayscale',\n",
        "batch_size=256,\n",
        "seed=42,\n",
        "shuffle=False,\n",
        "class_mode=None,\n",
        "target_size=(112,112))"
      ],
      "metadata": {
        "colab": {
          "base_uri": "https://localhost:8080/"
        },
        "id": "rwx8g-y3UYwJ",
        "outputId": "e8440bca-0d92-40be-c525-a9b841f649f8"
      },
      "execution_count": null,
      "outputs": [
        {
          "output_type": "stream",
          "name": "stderr",
          "text": [
            "/usr/local/lib/python3.7/dist-packages/keras_preprocessing/image/dataframe_iterator.py:282: UserWarning: Found 8161 invalid image filename(s) in x_col=\"id\". These filename(s) will be ignored.\n",
            "  .format(n_invalid, x_col)\n"
          ]
        },
        {
          "output_type": "stream",
          "name": "stdout",
          "text": [
            "Found 91170 validated image filenames belonging to 10 classes.\n",
            "Found 30390 validated image filenames belonging to 10 classes.\n",
            "Found 95997 validated image filenames.\n"
          ]
        }
      ]
    },
    {
      "cell_type": "markdown",
      "source": [
        "Model (Modified from VGG16)"
      ],
      "metadata": {
        "id": "BAv2QO9r9wfp"
      }
    },
    {
      "cell_type": "code",
      "source": [
        "\n",
        "model = Sequential()\n",
        "model.add(Conv2D(input_shape=(112,112,1),filters=64,kernel_size=(3,3),padding=\"same\", activation=\"relu\"))\n",
        "model.add(Conv2D(filters=32,kernel_size=(3,3),padding=\"same\", activation=\"relu\"))\n",
        "model.add(MaxPooling2D(pool_size=(2,2),strides=(2,2)))\n",
        "model.add(Conv2D(filters=64, kernel_size=(3,3), padding=\"same\", activation=\"relu\"))\n",
        "model.add(MaxPooling2D(pool_size=(2,2),strides=(2,2)))\n",
        "model.add(Conv2D(filters=64, kernel_size=(3,3), padding=\"same\", activation=\"relu\"))\n",
        "model.add(Conv2D(filters=64, kernel_size=(3,3), padding=\"same\", activation=\"relu\"))\n",
        "model.add(MaxPooling2D(pool_size=(2,2),strides=(2,2)))\n",
        "model.add(Dropout(0.25))\n",
        "model.add(Conv2D(filters=32,kernel_size=(3,3),padding=\"same\", activation=\"relu\"))\n",
        "model.add(MaxPooling2D(pool_size=(2,2),strides=(2,2)))\n",
        "model.add(Flatten())\n",
        "model.add(Dense(units=512,activation=\"relu\"))\n",
        "model.add(Dense(units=512,activation=\"relu\"))\n",
        "model.add(Dropout(0.25))\n",
        "model.add(Dense(units=10, activation=\"softmax\"))"
      ],
      "metadata": {
        "id": "6hK9Z22QmdIV"
      },
      "execution_count": null,
      "outputs": []
    },
    {
      "cell_type": "code",
      "source": [
        "\n",
        "model.compile(optimizers.Adam(learning_rate=0.001),\n",
        "              loss='sparse_categorical_crossentropy',\n",
        "              metrics=['accuracy'])"
      ],
      "metadata": {
        "id": "t74lPP2BnqfA"
      },
      "execution_count": null,
      "outputs": []
    },
    {
      "cell_type": "code",
      "source": [
        "model.summary()"
      ],
      "metadata": {
        "colab": {
          "base_uri": "https://localhost:8080/"
        },
        "id": "0d9WnTV_XkzL",
        "outputId": "100e1769-a2b0-434d-ba72-453351d0cc5f"
      },
      "execution_count": null,
      "outputs": [
        {
          "output_type": "stream",
          "name": "stdout",
          "text": [
            "Model: \"sequential_1\"\n",
            "_________________________________________________________________\n",
            " Layer (type)                Output Shape              Param #   \n",
            "=================================================================\n",
            " conv2d_6 (Conv2D)           (None, 112, 112, 64)      640       \n",
            "                                                                 \n",
            " conv2d_7 (Conv2D)           (None, 112, 112, 32)      18464     \n",
            "                                                                 \n",
            " max_pooling2d_4 (MaxPooling  (None, 56, 56, 32)       0         \n",
            " 2D)                                                             \n",
            "                                                                 \n",
            " conv2d_8 (Conv2D)           (None, 56, 56, 64)        18496     \n",
            "                                                                 \n",
            " max_pooling2d_5 (MaxPooling  (None, 28, 28, 64)       0         \n",
            " 2D)                                                             \n",
            "                                                                 \n",
            " conv2d_9 (Conv2D)           (None, 28, 28, 64)        36928     \n",
            "                                                                 \n",
            " conv2d_10 (Conv2D)          (None, 28, 28, 64)        36928     \n",
            "                                                                 \n",
            " max_pooling2d_6 (MaxPooling  (None, 14, 14, 64)       0         \n",
            " 2D)                                                             \n",
            "                                                                 \n",
            " dropout_2 (Dropout)         (None, 14, 14, 64)        0         \n",
            "                                                                 \n",
            " conv2d_11 (Conv2D)          (None, 14, 14, 64)        36928     \n",
            "                                                                 \n",
            " max_pooling2d_7 (MaxPooling  (None, 7, 7, 64)         0         \n",
            " 2D)                                                             \n",
            "                                                                 \n",
            " flatten_1 (Flatten)         (None, 3136)              0         \n",
            "                                                                 \n",
            " dense_3 (Dense)             (None, 512)               1606144   \n",
            "                                                                 \n",
            " dense_4 (Dense)             (None, 512)               262656    \n",
            "                                                                 \n",
            " dropout_3 (Dropout)         (None, 512)               0         \n",
            "                                                                 \n",
            " dense_5 (Dense)             (None, 10)                5130      \n",
            "                                                                 \n",
            "=================================================================\n",
            "Total params: 2,022,314\n",
            "Trainable params: 2,022,314\n",
            "Non-trainable params: 0\n",
            "_________________________________________________________________\n"
          ]
        }
      ]
    },
    {
      "cell_type": "code",
      "source": [
        "STEP_SIZE_TRAIN=train_generator.n//train_generator.batch_size\n",
        "STEP_SIZE_VALID=valid_generator.n//valid_generator.batch_size\n",
        "STEP_SIZE_TEST=test_generator.n//test_generator.batch_size\n",
        "model.fit(train_generator,\n",
        "                    steps_per_epoch=STEP_SIZE_TRAIN,\n",
        "                    validation_data=valid_generator,\n",
        "                    validation_steps=STEP_SIZE_VALID,\n",
        "                    epochs=10)"
      ],
      "metadata": {
        "colab": {
          "base_uri": "https://localhost:8080/"
        },
        "id": "M9HcdnpsYL9Z",
        "outputId": "af4d1457-0e8a-449d-892f-c9577e568993"
      },
      "execution_count": null,
      "outputs": [
        {
          "output_type": "stream",
          "name": "stdout",
          "text": [
            "Epoch 1/10\n",
            "178/178 [==============================] - 221s 1s/step - loss: 1.9147 - accuracy: 0.3019 - val_loss: 1.3403 - val_accuracy: 0.5289\n",
            "Epoch 2/10\n",
            "178/178 [==============================] - 217s 1s/step - loss: 1.0378 - accuracy: 0.6325 - val_loss: 0.7950 - val_accuracy: 0.7200\n",
            "Epoch 3/10\n",
            "178/178 [==============================] - 217s 1s/step - loss: 0.6421 - accuracy: 0.7716 - val_loss: 0.5849 - val_accuracy: 0.7919\n",
            "Epoch 4/10\n",
            "178/178 [==============================] - 218s 1s/step - loss: 0.4661 - accuracy: 0.8359 - val_loss: 0.4363 - val_accuracy: 0.8470\n",
            "Epoch 5/10\n",
            "178/178 [==============================] - 219s 1s/step - loss: 0.3417 - accuracy: 0.8770 - val_loss: 0.4116 - val_accuracy: 0.8567\n",
            "Epoch 6/10\n",
            "178/178 [==============================] - 218s 1s/step - loss: 0.2747 - accuracy: 0.9004 - val_loss: 0.3887 - val_accuracy: 0.8689\n",
            "Epoch 7/10\n",
            "178/178 [==============================] - 218s 1s/step - loss: 0.2196 - accuracy: 0.9200 - val_loss: 0.3512 - val_accuracy: 0.8808\n",
            "Epoch 8/10\n",
            "178/178 [==============================] - 218s 1s/step - loss: 0.2004 - accuracy: 0.9276 - val_loss: 0.4035 - val_accuracy: 0.8687\n",
            "Epoch 9/10\n",
            "178/178 [==============================] - 218s 1s/step - loss: 0.1605 - accuracy: 0.9409 - val_loss: 0.3592 - val_accuracy: 0.8855\n",
            "Epoch 10/10\n",
            "178/178 [==============================] - 218s 1s/step - loss: 0.1475 - accuracy: 0.9465 - val_loss: 0.3665 - val_accuracy: 0.8908\n"
          ]
        },
        {
          "output_type": "execute_result",
          "data": {
            "text/plain": [
              "<keras.callbacks.History at 0x7f965c9a8e50>"
            ]
          },
          "metadata": {},
          "execution_count": 19
        }
      ]
    },
    {
      "cell_type": "markdown",
      "source": [
        "Evaluation"
      ],
      "metadata": {
        "id": "6Bn3fdV--k4g"
      }
    },
    {
      "cell_type": "code",
      "source": [
        "model.evaluate_generator(generator=valid_generator,\n",
        "steps=STEP_SIZE_TEST)"
      ],
      "metadata": {
        "colab": {
          "base_uri": "https://localhost:8080/"
        },
        "id": "Z2hPuuv4DAKP",
        "outputId": "6f9affb6-294c-41b2-c8e5-459f005f688c"
      },
      "execution_count": null,
      "outputs": [
        {
          "output_type": "stream",
          "name": "stderr",
          "text": [
            "/usr/local/lib/python3.7/dist-packages/ipykernel_launcher.py:2: UserWarning: `Model.evaluate_generator` is deprecated and will be removed in a future version. Please use `Model.evaluate`, which supports generators.\n",
            "  \n"
          ]
        },
        {
          "output_type": "stream",
          "name": "stdout",
          "text": [
            "WARNING:tensorflow:Your input ran out of data; interrupting training. Make sure that your dataset or generator can generate at least `steps_per_epoch * epochs` batches (in this case, 187 batches). You may need to use the repeat() function when building your dataset.\n"
          ]
        },
        {
          "output_type": "execute_result",
          "data": {
            "text/plain": [
              "[0.3668203353881836, 0.8906219005584717]"
            ]
          },
          "metadata": {},
          "execution_count": 20
        }
      ]
    },
    {
      "cell_type": "code",
      "source": [
        "test_generator.reset()\n",
        "pred=model.predict(test_generator,\n",
        "steps=STEP_SIZE_TEST+1,\n",
        "verbose=1)"
      ],
      "metadata": {
        "colab": {
          "base_uri": "https://localhost:8080/"
        },
        "id": "YTxiT_e9DCdr",
        "outputId": "9909ca62-6d3d-4cc8-aa53-3a089e77fa28"
      },
      "execution_count": null,
      "outputs": [
        {
          "output_type": "stream",
          "name": "stdout",
          "text": [
            "188/188 [==============================] - 68s 362ms/step\n"
          ]
        }
      ]
    },
    {
      "cell_type": "code",
      "source": [
        "predicted_class_indices=np.argmax(pred,axis=1)"
      ],
      "metadata": {
        "id": "2iB0On7oDHMj"
      },
      "execution_count": null,
      "outputs": []
    },
    {
      "cell_type": "code",
      "source": [
        "labels = (train_generator.class_indices)\n",
        "labels = dict((v,k) for k,v in labels.items())\n",
        "predictions = [labels[k] for k in predicted_class_indices]"
      ],
      "metadata": {
        "id": "cqFuBbSgDLUu"
      },
      "execution_count": null,
      "outputs": []
    },
    {
      "cell_type": "code",
      "source": [
        "filenames=test_generator.filenames\n",
        "print(len(filenames))\n",
        "print(len(predictions))\n",
        "results=pd.DataFrame({\"Filename\":filenames,\n",
        "                      \"Predictions\":predictions})\n",
        "results.to_csv(\"/content/results.csv\",index=False)\n",
        "model.save('/content/models/model_font.h5')"
      ],
      "metadata": {
        "colab": {
          "base_uri": "https://localhost:8080/"
        },
        "id": "Py12bfGpDN4t",
        "outputId": "1fd2153f-fedd-4814-debf-8ea30470709c"
      },
      "execution_count": null,
      "outputs": [
        {
          "output_type": "stream",
          "name": "stdout",
          "text": [
            "95997\n",
            "95997\n"
          ]
        }
      ]
    },
    {
      "cell_type": "markdown",
      "source": [
        "# Size"
      ],
      "metadata": {
        "id": "yu8nZO2T-_C9"
      }
    },
    {
      "cell_type": "code",
      "source": [
        "stats_size = stats[['id', 'size']]\n",
        "print(stats_size.head(5))"
      ],
      "metadata": {
        "colab": {
          "base_uri": "https://localhost:8080/"
        },
        "id": "jkfP2yg6bI2Y",
        "outputId": "73c5c583-6e52-41a5-b672-b2c07f7131c9"
      },
      "execution_count": null,
      "outputs": [
        {
          "output_type": "stream",
          "name": "stdout",
          "text": [
            "             id  size\n",
            "0  100045cf.png  12px\n",
            "1  10006750.png  16px\n",
            "2  1000bc2d.png  16px\n",
            "3  10019de9.png  14px\n",
            "4  1001fcf9.png  14px\n"
          ]
        }
      ]
    },
    {
      "cell_type": "code",
      "source": [
        "print(stats_size['size'].nunique())"
      ],
      "metadata": {
        "id": "OkHxhvUacqML",
        "colab": {
          "base_uri": "https://localhost:8080/"
        },
        "outputId": "5c935a8a-4a26-4a01-bfd7-fc65e85e1653"
      },
      "execution_count": null,
      "outputs": [
        {
          "output_type": "stream",
          "name": "stdout",
          "text": [
            "7\n"
          ]
        }
      ]
    },
    {
      "cell_type": "code",
      "source": [
        "train_generator_size=datagen.flow_from_dataframe(\n",
        "dataframe=stats_size,\n",
        "directory=directory,\n",
        "x_col=\"id\",\n",
        "y_col='size',\n",
        "batch_size=256,\n",
        "seed=42,\n",
        "subset='training',\n",
        "color_mode='grayscale',\n",
        "class_mode=\"sparse\",\n",
        "shuffle=True,\n",
        "target_size=(112,112))\n",
        "\n",
        "valid_generator_size=datagen.flow_from_dataframe(\n",
        "dataframe=stats_size,\n",
        "directory=directory,\n",
        "x_col='id',\n",
        "y_col='size',\n",
        "subset='validation',\n",
        "color_mode='grayscale',\n",
        "batch_size=256,\n",
        "seed=42,\n",
        "shuffle=True,\n",
        "class_mode=\"sparse\",\n",
        "target_size=(112,112))\n",
        "\n",
        "test_generator_size=test_datagen.flow_from_dataframe(\n",
        "dataframe=id_test,\n",
        "directory='/content/crop_t',\n",
        "color_mode='grayscale',\n",
        "x_col=\"id\",\n",
        "y_col=None,\n",
        "batch_size=256,\n",
        "seed=42,\n",
        "shuffle=False,\n",
        "class_mode=None,\n",
        "target_size=(112,112))"
      ],
      "metadata": {
        "colab": {
          "base_uri": "https://localhost:8080/"
        },
        "outputId": "235c029f-fe57-4d9a-b5e9-9ab676e898ef",
        "id": "0JT-nYY_csG3"
      },
      "execution_count": null,
      "outputs": [
        {
          "output_type": "stream",
          "name": "stderr",
          "text": [
            "/usr/local/lib/python3.7/dist-packages/keras_preprocessing/image/dataframe_iterator.py:282: UserWarning: Found 8161 invalid image filename(s) in x_col=\"id\". These filename(s) will be ignored.\n",
            "  .format(n_invalid, x_col)\n"
          ]
        },
        {
          "output_type": "stream",
          "name": "stdout",
          "text": [
            "Found 91170 validated image filenames belonging to 7 classes.\n",
            "Found 30390 validated image filenames belonging to 7 classes.\n",
            "Found 95997 validated image filenames.\n"
          ]
        }
      ]
    },
    {
      "cell_type": "code",
      "source": [
        "model_size = Sequential()\n",
        "\n",
        "model_size.add(Conv2D(input_shape=(112,112,1),filters=64,kernel_size=(3,3),padding=\"same\", activation=\"relu\"))\n",
        "model_size.add(Conv2D(filters=32,kernel_size=(3,3),padding=\"same\", activation=\"relu\"))\n",
        "model_size.add(MaxPooling2D(pool_size=(2,2),strides=(2,2)))\n",
        "model_size.add(Conv2D(filters=64, kernel_size=(3,3), padding=\"same\", activation=\"relu\"))\n",
        "model_size.add(MaxPooling2D(pool_size=(2,2),strides=(2,2)))\n",
        "model_size.add(Conv2D(filters=64, kernel_size=(3,3), padding=\"same\", activation=\"relu\"))\n",
        "model_size.add(Conv2D(filters=64, kernel_size=(3,3), padding=\"same\", activation=\"relu\"))\n",
        "model_size.add(MaxPooling2D(pool_size=(2,2),strides=(2,2)))\n",
        "model_size.add(Dropout(0.25))\n",
        "model_size.add(Conv2D(filters=64,kernel_size=(3,3),padding=\"same\", activation=\"relu\"))\n",
        "model_size.add(MaxPooling2D(pool_size=(2,2),strides=(2,2)))\n",
        "model_size.add(Flatten())\n",
        "model_size.add(Dense(units=512,activation=\"relu\"))\n",
        "model_size.add(Dense(units=512,activation=\"relu\"))\n",
        "model_size.add(Dropout(0.25))\n",
        "model_size.add(Dense(units=7, activation=\"softmax\"))"
      ],
      "metadata": {
        "id": "IZG9d5CldXb7"
      },
      "execution_count": null,
      "outputs": []
    },
    {
      "cell_type": "code",
      "source": [
        "model_size.compile(optimizers.Adam(learning_rate=0.001),\n",
        "              loss='sparse_categorical_crossentropy',\n",
        "              metrics=['accuracy'])\n",
        "model_size.summary()"
      ],
      "metadata": {
        "id": "uwenp0tEelM2",
        "colab": {
          "base_uri": "https://localhost:8080/"
        },
        "outputId": "aa96fc73-7700-4ebe-e973-8590fd58c879"
      },
      "execution_count": null,
      "outputs": [
        {
          "output_type": "stream",
          "name": "stdout",
          "text": [
            "Model: \"sequential_2\"\n",
            "_________________________________________________________________\n",
            " Layer (type)                Output Shape              Param #   \n",
            "=================================================================\n",
            " conv2d_12 (Conv2D)          (None, 112, 112, 64)      640       \n",
            "                                                                 \n",
            " conv2d_13 (Conv2D)          (None, 112, 112, 32)      18464     \n",
            "                                                                 \n",
            " max_pooling2d_8 (MaxPooling  (None, 56, 56, 32)       0         \n",
            " 2D)                                                             \n",
            "                                                                 \n",
            " conv2d_14 (Conv2D)          (None, 56, 56, 64)        18496     \n",
            "                                                                 \n",
            " max_pooling2d_9 (MaxPooling  (None, 28, 28, 64)       0         \n",
            " 2D)                                                             \n",
            "                                                                 \n",
            " conv2d_15 (Conv2D)          (None, 28, 28, 64)        36928     \n",
            "                                                                 \n",
            " conv2d_16 (Conv2D)          (None, 28, 28, 64)        36928     \n",
            "                                                                 \n",
            " max_pooling2d_10 (MaxPoolin  (None, 14, 14, 64)       0         \n",
            " g2D)                                                            \n",
            "                                                                 \n",
            " dropout_4 (Dropout)         (None, 14, 14, 64)        0         \n",
            "                                                                 \n",
            " conv2d_17 (Conv2D)          (None, 14, 14, 64)        36928     \n",
            "                                                                 \n",
            " max_pooling2d_11 (MaxPoolin  (None, 7, 7, 64)         0         \n",
            " g2D)                                                            \n",
            "                                                                 \n",
            " flatten_2 (Flatten)         (None, 3136)              0         \n",
            "                                                                 \n",
            " dense_6 (Dense)             (None, 512)               1606144   \n",
            "                                                                 \n",
            " dense_7 (Dense)             (None, 512)               262656    \n",
            "                                                                 \n",
            " dropout_5 (Dropout)         (None, 512)               0         \n",
            "                                                                 \n",
            " dense_8 (Dense)             (None, 7)                 3591      \n",
            "                                                                 \n",
            "=================================================================\n",
            "Total params: 2,020,775\n",
            "Trainable params: 2,020,775\n",
            "Non-trainable params: 0\n",
            "_________________________________________________________________\n"
          ]
        }
      ]
    },
    {
      "cell_type": "code",
      "source": [
        "STEP_SIZE_TRAIN_SIZE=train_generator_size.n//train_generator_size.batch_size\n",
        "STEP_SIZE_VALID_SIZE=valid_generator_size.n//valid_generator_size.batch_size\n",
        "STEP_SIZE_TEST_SIZE=test_generator_size.n//test_generator_size.batch_size\n",
        "model_size.fit(train_generator_size,\n",
        "                    steps_per_epoch=STEP_SIZE_TRAIN_SIZE,\n",
        "                    validation_data=valid_generator_size,\n",
        "                    validation_steps=STEP_SIZE_VALID_SIZE,\n",
        "                    epochs=7)"
      ],
      "metadata": {
        "id": "JuK6qLCaewNp",
        "colab": {
          "base_uri": "https://localhost:8080/"
        },
        "outputId": "fd82427b-0b5c-4b04-ce39-8adc2e34d603"
      },
      "execution_count": null,
      "outputs": [
        {
          "output_type": "stream",
          "name": "stdout",
          "text": [
            "Epoch 1/7\n",
            "178/178 [==============================] - 219s 1s/step - loss: 1.7437 - accuracy: 0.3341 - val_loss: 1.5923 - val_accuracy: 0.3863\n",
            "Epoch 2/7\n",
            "178/178 [==============================] - 218s 1s/step - loss: 1.3477 - accuracy: 0.4715 - val_loss: 1.1100 - val_accuracy: 0.5714\n",
            "Epoch 3/7\n",
            "178/178 [==============================] - 218s 1s/step - loss: 1.0042 - accuracy: 0.6045 - val_loss: 0.8839 - val_accuracy: 0.6576\n",
            "Epoch 4/7\n",
            "178/178 [==============================] - 218s 1s/step - loss: 0.8047 - accuracy: 0.6819 - val_loss: 0.7706 - val_accuracy: 0.6953\n",
            "Epoch 5/7\n",
            "178/178 [==============================] - 218s 1s/step - loss: 0.6647 - accuracy: 0.7392 - val_loss: 0.6375 - val_accuracy: 0.7497\n",
            "Epoch 6/7\n",
            "178/178 [==============================] - 218s 1s/step - loss: 0.5575 - accuracy: 0.7821 - val_loss: 0.5834 - val_accuracy: 0.7739\n",
            "Epoch 7/7\n",
            "178/178 [==============================] - 218s 1s/step - loss: 0.4807 - accuracy: 0.8129 - val_loss: 0.5961 - val_accuracy: 0.7770\n"
          ]
        },
        {
          "output_type": "execute_result",
          "data": {
            "text/plain": [
              "<keras.callbacks.History at 0x7f965824f6d0>"
            ]
          },
          "metadata": {},
          "execution_count": 31
        }
      ]
    },
    {
      "cell_type": "code",
      "source": [
        "model_size.evaluate(valid_generator_size,\n",
        "steps=STEP_SIZE_TEST_SIZE)"
      ],
      "metadata": {
        "id": "pRgjJMCFfszZ",
        "colab": {
          "base_uri": "https://localhost:8080/"
        },
        "outputId": "66a6cb6b-7f74-49c8-ccb9-883b667ce125"
      },
      "execution_count": null,
      "outputs": [
        {
          "output_type": "stream",
          "name": "stdout",
          "text": [
            " 60/187 [========>.....................] - ETA: 42s - loss: 0.5962 - accuracy: 0.7770WARNING:tensorflow:Your input ran out of data; interrupting training. Make sure that your dataset or generator can generate at least `steps_per_epoch * epochs` batches (in this case, 187 batches). You may need to use the repeat() function when building your dataset.\n",
            "187/187 [==============================] - 21s 107ms/step - loss: 0.5962 - accuracy: 0.7770\n"
          ]
        },
        {
          "output_type": "execute_result",
          "data": {
            "text/plain": [
              "[0.5961966514587402, 0.7770318984985352]"
            ]
          },
          "metadata": {},
          "execution_count": 32
        }
      ]
    },
    {
      "cell_type": "code",
      "source": [
        "test_generator_size.reset()\n",
        "pred_size=model_size.predict_generator(test_generator_size,\n",
        "steps=STEP_SIZE_TEST_SIZE+1,\n",
        "verbose=1)"
      ],
      "metadata": {
        "id": "Ny_2d0oIf95O",
        "colab": {
          "base_uri": "https://localhost:8080/"
        },
        "outputId": "2053c642-297a-44fd-fedf-72485d3f4d79"
      },
      "execution_count": null,
      "outputs": [
        {
          "output_type": "stream",
          "name": "stderr",
          "text": [
            "/usr/local/lib/python3.7/dist-packages/ipykernel_launcher.py:4: UserWarning: `Model.predict_generator` is deprecated and will be removed in a future version. Please use `Model.predict`, which supports generators.\n",
            "  after removing the cwd from sys.path.\n"
          ]
        },
        {
          "output_type": "stream",
          "name": "stdout",
          "text": [
            "188/188 [==============================] - 62s 332ms/step\n"
          ]
        }
      ]
    },
    {
      "cell_type": "code",
      "source": [
        "predicted_class_indices_size=np.argmax(pred_size,axis=1)\n",
        "labels_size = (train_generator_size.class_indices)\n",
        "labels_size = dict((v,k) for k,v in labels_size.items())\n",
        "predictions_size = [labels_size[k] for k in predicted_class_indices_size]"
      ],
      "metadata": {
        "id": "GLIBaWbEgRlK"
      },
      "execution_count": null,
      "outputs": []
    },
    {
      "cell_type": "code",
      "source": [
        "filenames_size=test_generator_size.filenames\n",
        "results_size=pd.DataFrame({\"id\":filenames_size,\n",
        "                      \"predicted_size\":predictions_size})\n",
        "results_size.to_csv(\"/content/results_size.csv\",index=False)\n",
        "model_size.save('/content/models/model_size.h5')"
      ],
      "metadata": {
        "id": "L7TLZVhNgvrH"
      },
      "execution_count": null,
      "outputs": []
    },
    {
      "cell_type": "markdown",
      "source": [
        "# Style"
      ],
      "metadata": {
        "id": "SyFP13uP_HEw"
      }
    },
    {
      "cell_type": "code",
      "source": [
        "stats_style = stats[['id', 'style']]\n",
        "print(stats_style.head(5))"
      ],
      "metadata": {
        "id": "setI8nnzijHZ",
        "colab": {
          "base_uri": "https://localhost:8080/"
        },
        "outputId": "75d9b08a-d4ac-4dda-9a44-d3b0e3fe5924"
      },
      "execution_count": null,
      "outputs": [
        {
          "output_type": "stream",
          "name": "stdout",
          "text": [
            "             id   style\n",
            "0  100045cf.png  normal\n",
            "1  10006750.png  italic\n",
            "2  1000bc2d.png  normal\n",
            "3  10019de9.png  normal\n",
            "4  1001fcf9.png  normal\n"
          ]
        }
      ]
    },
    {
      "cell_type": "code",
      "source": [
        "print(stats_style['style'].nunique())"
      ],
      "metadata": {
        "colab": {
          "base_uri": "https://localhost:8080/"
        },
        "id": "f5CQ75c0b6Mh",
        "outputId": "349a7518-7ccf-426e-fd7f-fba679fd6bff"
      },
      "execution_count": null,
      "outputs": [
        {
          "output_type": "stream",
          "name": "stdout",
          "text": [
            "2\n"
          ]
        }
      ]
    },
    {
      "cell_type": "code",
      "source": [
        "train_generator_style=datagen.flow_from_dataframe(\n",
        "dataframe=stats_style,\n",
        "directory=directory,\n",
        "x_col=\"id\",\n",
        "y_col='style',\n",
        "batch_size=256,\n",
        "seed=42,\n",
        "subset='training',\n",
        "color_mode='grayscale',\n",
        "class_mode=\"binary\",\n",
        "shuffle=True,\n",
        "target_size=(112,112))\n",
        "\n",
        "valid_generator_style=datagen.flow_from_dataframe(\n",
        "dataframe=stats_style,\n",
        "directory=directory,\n",
        "x_col='id',\n",
        "y_col='style',\n",
        "subset='validation',\n",
        "color_mode='grayscale',\n",
        "batch_size=256,\n",
        "seed=42,\n",
        "shuffle=True,\n",
        "class_mode=\"binary\",\n",
        "target_size=(112,112))\n",
        "\n",
        "test_generator_style=test_datagen.flow_from_dataframe(\n",
        "dataframe=id_test,\n",
        "directory='/content/crop_t',\n",
        "color_mode='grayscale',\n",
        "x_col=\"id\",\n",
        "y_col=None,\n",
        "batch_size=256,\n",
        "seed=42,\n",
        "shuffle=False,\n",
        "class_mode=None,\n",
        "target_size=(112,112))"
      ],
      "metadata": {
        "colab": {
          "base_uri": "https://localhost:8080/"
        },
        "id": "WbTHKgQobp8R",
        "outputId": "6ef81856-ca6f-428d-d731-0604a48ccb35"
      },
      "execution_count": null,
      "outputs": [
        {
          "output_type": "stream",
          "name": "stderr",
          "text": [
            "/usr/local/lib/python3.7/dist-packages/keras_preprocessing/image/dataframe_iterator.py:282: UserWarning: Found 8161 invalid image filename(s) in x_col=\"id\". These filename(s) will be ignored.\n",
            "  .format(n_invalid, x_col)\n"
          ]
        },
        {
          "output_type": "stream",
          "name": "stdout",
          "text": [
            "Found 91170 validated image filenames belonging to 2 classes.\n",
            "Found 30390 validated image filenames belonging to 2 classes.\n",
            "Found 95997 validated image filenames.\n"
          ]
        }
      ]
    },
    {
      "cell_type": "code",
      "source": [
        "model_style = Sequential()\n",
        "\n",
        "model_style.add(Conv2D(input_shape=(112,112,1),filters=64,kernel_size=(3,3),padding=\"same\", activation=\"relu\"))\n",
        "model_style.add(Conv2D(filters=32,kernel_size=(3,3),padding=\"same\", activation=\"relu\"))\n",
        "model_style.add(MaxPooling2D(pool_size=(2,2),strides=(2,2)))\n",
        "model_style.add(Conv2D(filters=64, kernel_size=(3,3), padding=\"same\", activation=\"relu\"))\n",
        "model_style.add(MaxPooling2D(pool_size=(2,2),strides=(2,2)))\n",
        "model_style.add(Conv2D(filters=64, kernel_size=(3,3), padding=\"same\", activation=\"relu\"))\n",
        "model_style.add(Conv2D(filters=64, kernel_size=(3,3), padding=\"same\", activation=\"relu\"))\n",
        "model_style.add(MaxPooling2D(pool_size=(2,2),strides=(2,2)))\n",
        "model_style.add(Dropout(0.25))\n",
        "model_style.add(Conv2D(filters=64,kernel_size=(3,3),padding=\"same\", activation=\"relu\"))\n",
        "model_style.add(MaxPooling2D(pool_size=(2,2),strides=(2,2)))\n",
        "model_style.add(Flatten())\n",
        "model_style.add(Dense(units=512,activation=\"relu\"))\n",
        "model_style.add(Dense(units=512,activation=\"relu\"))\n",
        "model_style.add(Dropout(0.25))\n",
        "model_style.add(Dense(units=1, activation=\"sigmoid\"))"
      ],
      "metadata": {
        "id": "D87CiFCXcSqJ"
      },
      "execution_count": null,
      "outputs": []
    },
    {
      "cell_type": "code",
      "source": [
        "model_style.compile(optimizers.Adam(learning_rate=0.001),\n",
        "              loss='binary_crossentropy',\n",
        "              metrics=['accuracy'])\n",
        "model_style.summary()"
      ],
      "metadata": {
        "colab": {
          "base_uri": "https://localhost:8080/"
        },
        "id": "myt7sqn0c4ev",
        "outputId": "5f133a31-6c2c-4686-e179-f677288d0bd3"
      },
      "execution_count": null,
      "outputs": [
        {
          "output_type": "stream",
          "name": "stdout",
          "text": [
            "Model: \"sequential_3\"\n",
            "_________________________________________________________________\n",
            " Layer (type)                Output Shape              Param #   \n",
            "=================================================================\n",
            " conv2d_18 (Conv2D)          (None, 112, 112, 64)      640       \n",
            "                                                                 \n",
            " conv2d_19 (Conv2D)          (None, 112, 112, 32)      18464     \n",
            "                                                                 \n",
            " max_pooling2d_12 (MaxPoolin  (None, 56, 56, 32)       0         \n",
            " g2D)                                                            \n",
            "                                                                 \n",
            " conv2d_20 (Conv2D)          (None, 56, 56, 64)        18496     \n",
            "                                                                 \n",
            " max_pooling2d_13 (MaxPoolin  (None, 28, 28, 64)       0         \n",
            " g2D)                                                            \n",
            "                                                                 \n",
            " conv2d_21 (Conv2D)          (None, 28, 28, 64)        36928     \n",
            "                                                                 \n",
            " conv2d_22 (Conv2D)          (None, 28, 28, 64)        36928     \n",
            "                                                                 \n",
            " max_pooling2d_14 (MaxPoolin  (None, 14, 14, 64)       0         \n",
            " g2D)                                                            \n",
            "                                                                 \n",
            " dropout_6 (Dropout)         (None, 14, 14, 64)        0         \n",
            "                                                                 \n",
            " conv2d_23 (Conv2D)          (None, 14, 14, 64)        36928     \n",
            "                                                                 \n",
            " max_pooling2d_15 (MaxPoolin  (None, 7, 7, 64)         0         \n",
            " g2D)                                                            \n",
            "                                                                 \n",
            " flatten_3 (Flatten)         (None, 3136)              0         \n",
            "                                                                 \n",
            " dense_9 (Dense)             (None, 512)               1606144   \n",
            "                                                                 \n",
            " dense_10 (Dense)            (None, 512)               262656    \n",
            "                                                                 \n",
            " dropout_7 (Dropout)         (None, 512)               0         \n",
            "                                                                 \n",
            " dense_11 (Dense)            (None, 1)                 513       \n",
            "                                                                 \n",
            "=================================================================\n",
            "Total params: 2,017,697\n",
            "Trainable params: 2,017,697\n",
            "Non-trainable params: 0\n",
            "_________________________________________________________________\n"
          ]
        }
      ]
    },
    {
      "cell_type": "code",
      "source": [
        "STEP_SIZE_TRAIN_STYLE=train_generator_style.n//train_generator_style.batch_size\n",
        "STEP_SIZE_VALID_STYLE=valid_generator_style.n//valid_generator_style.batch_size\n",
        "STEP_SIZE_TEST_STYLE=test_generator_style.n//test_generator_style.batch_size\n",
        "model_style.fit(train_generator_style,\n",
        "                    steps_per_epoch=STEP_SIZE_TRAIN_STYLE,\n",
        "                    validation_data=valid_generator_style,\n",
        "                    validation_steps=STEP_SIZE_VALID_STYLE,\n",
        "                    epochs=10)"
      ],
      "metadata": {
        "colab": {
          "base_uri": "https://localhost:8080/"
        },
        "id": "S_0fQYXCc70o",
        "outputId": "5837f68b-2746-460b-903d-584638602a4c"
      },
      "execution_count": null,
      "outputs": [
        {
          "output_type": "stream",
          "name": "stdout",
          "text": [
            "Epoch 1/10\n",
            "178/178 [==============================] - 219s 1s/step - loss: 0.5234 - accuracy: 0.7061 - val_loss: 0.3545 - val_accuracy: 0.8375\n",
            "Epoch 2/10\n",
            "178/178 [==============================] - 219s 1s/step - loss: 0.2620 - accuracy: 0.8834 - val_loss: 0.1870 - val_accuracy: 0.9203\n",
            "Epoch 3/10\n",
            "178/178 [==============================] - 218s 1s/step - loss: 0.1721 - accuracy: 0.9264 - val_loss: 0.1349 - val_accuracy: 0.9424\n",
            "Epoch 4/10\n",
            "178/178 [==============================] - 219s 1s/step - loss: 0.1189 - accuracy: 0.9496 - val_loss: 0.1043 - val_accuracy: 0.9565\n",
            "Epoch 5/10\n",
            "178/178 [==============================] - 219s 1s/step - loss: 0.0890 - accuracy: 0.9634 - val_loss: 0.0933 - val_accuracy: 0.9621\n",
            "Epoch 6/10\n",
            "178/178 [==============================] - 219s 1s/step - loss: 0.0678 - accuracy: 0.9725 - val_loss: 0.0786 - val_accuracy: 0.9692\n",
            "Epoch 7/10\n",
            "178/178 [==============================] - 219s 1s/step - loss: 0.0659 - accuracy: 0.9741 - val_loss: 0.0793 - val_accuracy: 0.9689\n",
            "Epoch 8/10\n",
            "178/178 [==============================] - 219s 1s/step - loss: 0.0500 - accuracy: 0.9805 - val_loss: 0.0692 - val_accuracy: 0.9745\n",
            "Epoch 9/10\n",
            "178/178 [==============================] - 219s 1s/step - loss: 0.0408 - accuracy: 0.9839 - val_loss: 0.0680 - val_accuracy: 0.9737\n",
            "Epoch 10/10\n",
            "178/178 [==============================] - 219s 1s/step - loss: 0.0365 - accuracy: 0.9859 - val_loss: 0.0728 - val_accuracy: 0.9749\n"
          ]
        },
        {
          "output_type": "execute_result",
          "data": {
            "text/plain": [
              "<keras.callbacks.History at 0x7f96578a7e10>"
            ]
          },
          "metadata": {},
          "execution_count": 41
        }
      ]
    },
    {
      "cell_type": "markdown",
      "source": [
        ""
      ],
      "metadata": {
        "id": "nms83J0yy-X4"
      }
    },
    {
      "cell_type": "code",
      "source": [
        "model_style.evaluate(valid_generator_style,\n",
        "steps=STEP_SIZE_TEST_STYLE)"
      ],
      "metadata": {
        "colab": {
          "base_uri": "https://localhost:8080/"
        },
        "id": "JqZwjCw7dWq8",
        "outputId": "a9c080cf-c2b4-45e3-d104-5f44a9644bf0"
      },
      "execution_count": null,
      "outputs": [
        {
          "output_type": "stream",
          "name": "stdout",
          "text": [
            " 60/187 [========>.....................] - ETA: 42s - loss: 0.0734 - accuracy: 0.9748WARNING:tensorflow:Your input ran out of data; interrupting training. Make sure that your dataset or generator can generate at least `steps_per_epoch * epochs` batches (in this case, 187 batches). You may need to use the repeat() function when building your dataset.\n",
            "187/187 [==============================] - 20s 107ms/step - loss: 0.0734 - accuracy: 0.9748\n"
          ]
        },
        {
          "output_type": "execute_result",
          "data": {
            "text/plain": [
              "[0.07340100407600403, 0.974761426448822]"
            ]
          },
          "metadata": {},
          "execution_count": 42
        }
      ]
    },
    {
      "cell_type": "code",
      "source": [
        "test_generator_style.reset()\n",
        "pred_style=model_style.predict(test_generator_style,\n",
        "steps=STEP_SIZE_TEST_STYLE+1,\n",
        "verbose=1)"
      ],
      "metadata": {
        "colab": {
          "base_uri": "https://localhost:8080/"
        },
        "id": "LmUNV8VLddY4",
        "outputId": "6e14e47a-6abd-44fa-acd1-88c5bdebfa5f"
      },
      "execution_count": null,
      "outputs": [
        {
          "output_type": "stream",
          "name": "stderr",
          "text": [
            "/usr/local/lib/python3.7/dist-packages/ipykernel_launcher.py:4: UserWarning: `Model.predict_generator` is deprecated and will be removed in a future version. Please use `Model.predict`, which supports generators.\n",
            "  after removing the cwd from sys.path.\n"
          ]
        },
        {
          "output_type": "stream",
          "name": "stdout",
          "text": [
            "188/188 [==============================] - 68s 361ms/step\n"
          ]
        }
      ]
    },
    {
      "cell_type": "code",
      "source": [
        "predicted_class_indices_style=np.argmax(pred_style,axis=1)\n",
        "labels_style = (train_generator_style.class_indices)\n",
        "labels_style = dict((v,k) for k,v in labels_style.items())\n",
        "predictions_style = [labels_style[k] for k in predicted_class_indices_style]"
      ],
      "metadata": {
        "id": "SMkXqWRhdo6J"
      },
      "execution_count": null,
      "outputs": []
    },
    {
      "cell_type": "code",
      "source": [
        "filenames_style=test_generator_style.filenames\n",
        "results_style=pd.DataFrame({\"id\":filenames_style,\n",
        "                      \"predicted_style\":predictions_style})\n",
        "results_style.to_csv(\"/content/results_style.csv\",index=False)\n",
        "model_style.save('/content/models/model_style.h5')"
      ],
      "metadata": {
        "id": "f0ps0rzId5Cu"
      },
      "execution_count": null,
      "outputs": []
    },
    {
      "cell_type": "markdown",
      "source": [
        "# Weight"
      ],
      "metadata": {
        "id": "eTfJGSrk_Ph8"
      }
    },
    {
      "cell_type": "code",
      "source": [
        "stats_weight= stats[['id', 'weight']]\n",
        "print(stats_weight.head(5))"
      ],
      "metadata": {
        "colab": {
          "base_uri": "https://localhost:8080/"
        },
        "id": "mcrwkTbceYXL",
        "outputId": "94b52ad6-fbda-4fc4-8afb-d2211b994336"
      },
      "execution_count": null,
      "outputs": [
        {
          "output_type": "stream",
          "name": "stdout",
          "text": [
            "             id  weight\n",
            "0  100045cf.png  normal\n",
            "1  10006750.png    bold\n",
            "2  1000bc2d.png    bold\n",
            "3  10019de9.png    bold\n",
            "4  1001fcf9.png    bold\n"
          ]
        }
      ]
    },
    {
      "cell_type": "code",
      "source": [
        "print(stats_weight['weight'].nunique())"
      ],
      "metadata": {
        "colab": {
          "base_uri": "https://localhost:8080/"
        },
        "id": "wNwEwaZYeYXR",
        "outputId": "ebff2c3c-f1f4-4069-f591-41247261e995"
      },
      "execution_count": null,
      "outputs": [
        {
          "output_type": "stream",
          "name": "stdout",
          "text": [
            "2\n"
          ]
        }
      ]
    },
    {
      "cell_type": "code",
      "source": [
        "train_generator_weight=datagen.flow_from_dataframe(\n",
        "dataframe=stats_weight,\n",
        "directory=directory,\n",
        "x_col=\"id\",\n",
        "y_col='weight',\n",
        "color_mode='grayscale',\n",
        "batch_size=256,\n",
        "seed=42,\n",
        "subset='training',\n",
        "class_mode=\"binary\",\n",
        "shuffle=True,\n",
        "target_size=(112,112))\n",
        "\n",
        "valid_generator_weight=datagen.flow_from_dataframe(\n",
        "dataframe=stats_weight,\n",
        "directory=directory,\n",
        "x_col='id',\n",
        "y_col='weight',\n",
        "subset='validation',\n",
        "color_mode='grayscale',\n",
        "batch_size=256,\n",
        "seed=42,\n",
        "shuffle=True,\n",
        "class_mode=\"binary\",\n",
        "target_size=(112,112))\n",
        "\n",
        "test_generator_weight=test_datagen.flow_from_dataframe(\n",
        "dataframe=id_test,\n",
        "directory='/content/crop_t',\n",
        "color_mode='grayscale',\n",
        "x_col=\"id\",\n",
        "y_col=None,\n",
        "batch_size=256,\n",
        "seed=42,\n",
        "shuffle=False,\n",
        "class_mode=None,\n",
        "target_size=(112,112))"
      ],
      "metadata": {
        "colab": {
          "base_uri": "https://localhost:8080/"
        },
        "id": "6dLsQkp3eYXR",
        "outputId": "14b60702-05e1-409c-8d58-3731331b90b7"
      },
      "execution_count": null,
      "outputs": [
        {
          "output_type": "stream",
          "name": "stderr",
          "text": [
            "/usr/local/lib/python3.7/dist-packages/keras_preprocessing/image/dataframe_iterator.py:282: UserWarning: Found 8161 invalid image filename(s) in x_col=\"id\". These filename(s) will be ignored.\n",
            "  .format(n_invalid, x_col)\n"
          ]
        },
        {
          "output_type": "stream",
          "name": "stdout",
          "text": [
            "Found 91170 validated image filenames belonging to 2 classes.\n",
            "Found 30390 validated image filenames belonging to 2 classes.\n",
            "Found 95997 validated image filenames.\n"
          ]
        }
      ]
    },
    {
      "cell_type": "code",
      "source": [
        "model_weight = Sequential()\n",
        "\n",
        "model_weight.add(Conv2D(input_shape=(112,112,1),filters=64,kernel_size=(3,3),padding=\"same\", activation=\"relu\"))\n",
        "model_weight.add(Conv2D(filters=32,kernel_size=(3,3),padding=\"same\", activation=\"relu\"))\n",
        "model_weight.add(MaxPooling2D(pool_size=(2,2),strides=(2,2)))\n",
        "model_weight.add(Conv2D(filters=64, kernel_size=(3,3), padding=\"same\", activation=\"relu\"))\n",
        "model_weight.add(MaxPooling2D(pool_size=(2,2),strides=(2,2)))\n",
        "model_weight.add(Conv2D(filters=64, kernel_size=(3,3), padding=\"same\", activation=\"relu\"))\n",
        "model_weight.add(Conv2D(filters=64, kernel_size=(3,3), padding=\"same\", activation=\"relu\"))\n",
        "model_weight.add(MaxPooling2D(pool_size=(2,2),strides=(2,2)))\n",
        "model_weight.add(Dropout(0.25))\n",
        "model_weight.add(Conv2D(filters=64,kernel_size=(3,3),padding=\"same\", activation=\"relu\"))\n",
        "model_weight.add(MaxPooling2D(pool_size=(2,2),strides=(2,2)))\n",
        "model_weight.add(Flatten())\n",
        "model_weight.add(Dense(units=512,activation=\"relu\"))\n",
        "model_weight.add(Dense(units=512,activation=\"relu\"))\n",
        "model_weight.add(Dropout(0.25))\n",
        "model_weight.add(Dense(units=1, activation=\"sigmoid\"))"
      ],
      "metadata": {
        "id": "BzyyCK2peYXR"
      },
      "execution_count": null,
      "outputs": []
    },
    {
      "cell_type": "code",
      "source": [
        "model_weight.compile(optimizers.Adam(learning_rate=0.001),\n",
        "              loss='binary_crossentropy',\n",
        "              metrics=['accuracy'])\n",
        "model_weight.summary()"
      ],
      "metadata": {
        "colab": {
          "base_uri": "https://localhost:8080/"
        },
        "id": "ZOO7rUuueYXR",
        "outputId": "9fe03907-4a33-4bcc-fc3f-015bd0a4935c"
      },
      "execution_count": null,
      "outputs": [
        {
          "output_type": "stream",
          "name": "stdout",
          "text": [
            "Model: \"sequential_4\"\n",
            "_________________________________________________________________\n",
            " Layer (type)                Output Shape              Param #   \n",
            "=================================================================\n",
            " conv2d_24 (Conv2D)          (None, 112, 112, 64)      640       \n",
            "                                                                 \n",
            " conv2d_25 (Conv2D)          (None, 112, 112, 32)      18464     \n",
            "                                                                 \n",
            " max_pooling2d_16 (MaxPoolin  (None, 56, 56, 32)       0         \n",
            " g2D)                                                            \n",
            "                                                                 \n",
            " conv2d_26 (Conv2D)          (None, 56, 56, 64)        18496     \n",
            "                                                                 \n",
            " max_pooling2d_17 (MaxPoolin  (None, 28, 28, 64)       0         \n",
            " g2D)                                                            \n",
            "                                                                 \n",
            " conv2d_27 (Conv2D)          (None, 28, 28, 64)        36928     \n",
            "                                                                 \n",
            " conv2d_28 (Conv2D)          (None, 28, 28, 64)        36928     \n",
            "                                                                 \n",
            " max_pooling2d_18 (MaxPoolin  (None, 14, 14, 64)       0         \n",
            " g2D)                                                            \n",
            "                                                                 \n",
            " dropout_8 (Dropout)         (None, 14, 14, 64)        0         \n",
            "                                                                 \n",
            " conv2d_29 (Conv2D)          (None, 14, 14, 64)        36928     \n",
            "                                                                 \n",
            " max_pooling2d_19 (MaxPoolin  (None, 7, 7, 64)         0         \n",
            " g2D)                                                            \n",
            "                                                                 \n",
            " flatten_4 (Flatten)         (None, 3136)              0         \n",
            "                                                                 \n",
            " dense_12 (Dense)            (None, 512)               1606144   \n",
            "                                                                 \n",
            " dense_13 (Dense)            (None, 512)               262656    \n",
            "                                                                 \n",
            " dropout_9 (Dropout)         (None, 512)               0         \n",
            "                                                                 \n",
            " dense_14 (Dense)            (None, 1)                 513       \n",
            "                                                                 \n",
            "=================================================================\n",
            "Total params: 2,017,697\n",
            "Trainable params: 2,017,697\n",
            "Non-trainable params: 0\n",
            "_________________________________________________________________\n"
          ]
        }
      ]
    },
    {
      "cell_type": "code",
      "source": [
        "STEP_SIZE_TRAIN_WEIGHT=train_generator_weight.n//train_generator_weight.batch_size\n",
        "STEP_SIZE_VALID_WEIGHT=valid_generator_weight.n//valid_generator_weight.batch_size\n",
        "STEP_SIZE_TEST_WEIGHT=test_generator_weight.n//test_generator_weight.batch_size\n",
        "model_weight.fit(train_generator_weight,\n",
        "                    steps_per_epoch=STEP_SIZE_TRAIN_WEIGHT,\n",
        "                    validation_data=valid_generator_weight,\n",
        "                    validation_steps=STEP_SIZE_VALID_WEIGHT,\n",
        "                    epochs=10)"
      ],
      "metadata": {
        "colab": {
          "base_uri": "https://localhost:8080/"
        },
        "id": "DM3x2grQeYXS",
        "outputId": "c9ec3a04-8c1b-4f68-fdc1-0c4a6a3a98d5"
      },
      "execution_count": null,
      "outputs": [
        {
          "output_type": "stream",
          "name": "stdout",
          "text": [
            "Epoch 1/8\n",
            "178/178 [==============================] - 220s 1s/step - loss: 0.5921 - accuracy: 0.6622 - val_loss: 0.4766 - val_accuracy: 0.7747\n",
            "Epoch 2/8\n",
            "178/178 [==============================] - 218s 1s/step - loss: 0.3991 - accuracy: 0.8166 - val_loss: 0.3294 - val_accuracy: 0.8573\n",
            "Epoch 3/8\n",
            "178/178 [==============================] - 218s 1s/step - loss: 0.3200 - accuracy: 0.8593 - val_loss: 0.2920 - val_accuracy: 0.8739\n",
            "Epoch 4/8\n",
            "178/178 [==============================] - 218s 1s/step - loss: 0.2629 - accuracy: 0.8885 - val_loss: 0.2578 - val_accuracy: 0.8902\n",
            "Epoch 5/8\n",
            "178/178 [==============================] - 218s 1s/step - loss: 0.2258 - accuracy: 0.9049 - val_loss: 0.2543 - val_accuracy: 0.8884\n",
            "Epoch 6/8\n",
            "178/178 [==============================] - 218s 1s/step - loss: 0.1843 - accuracy: 0.9234 - val_loss: 0.2147 - val_accuracy: 0.9105\n",
            "Epoch 7/8\n",
            "178/178 [==============================] - 218s 1s/step - loss: 0.1613 - accuracy: 0.9343 - val_loss: 0.2146 - val_accuracy: 0.9116\n",
            "Epoch 8/8\n",
            "178/178 [==============================] - 218s 1s/step - loss: 0.1396 - accuracy: 0.9430 - val_loss: 0.2047 - val_accuracy: 0.9184\n"
          ]
        },
        {
          "output_type": "execute_result",
          "data": {
            "text/plain": [
              "<keras.callbacks.History at 0x7f9650b1d350>"
            ]
          },
          "metadata": {},
          "execution_count": 51
        }
      ]
    },
    {
      "cell_type": "code",
      "source": [
        "model_weight.evaluate(valid_generator_weight,\n",
        "steps=STEP_SIZE_TEST_WEIGHT)"
      ],
      "metadata": {
        "colab": {
          "base_uri": "https://localhost:8080/"
        },
        "id": "ng2lY-bSeYXS",
        "outputId": "d2473aaf-5945-4cf3-eee4-95d2d3ef6c58"
      },
      "execution_count": null,
      "outputs": [
        {
          "output_type": "stream",
          "name": "stdout",
          "text": [
            " 60/187 [========>.....................] - ETA: 42s - loss: 0.2050 - accuracy: 0.9183WARNING:tensorflow:Your input ran out of data; interrupting training. Make sure that your dataset or generator can generate at least `steps_per_epoch * epochs` batches (in this case, 187 batches). You may need to use the repeat() function when building your dataset.\n",
            "187/187 [==============================] - 20s 107ms/step - loss: 0.2050 - accuracy: 0.9183\n"
          ]
        },
        {
          "output_type": "execute_result",
          "data": {
            "text/plain": [
              "[0.2050064355134964, 0.9182955026626587]"
            ]
          },
          "metadata": {},
          "execution_count": 52
        }
      ]
    },
    {
      "cell_type": "code",
      "source": [
        "test_generator_weight.reset()\n",
        "pred_weight=model_weight.predict_generator(test_generator_weight,\n",
        "steps=STEP_SIZE_TEST_WEIGHT+1,\n",
        "verbose=1)"
      ],
      "metadata": {
        "colab": {
          "base_uri": "https://localhost:8080/"
        },
        "id": "mObt1xOceYXS",
        "outputId": "ebf1858e-4e3f-469f-bb4d-984c7ee6a61b"
      },
      "execution_count": null,
      "outputs": [
        {
          "output_type": "stream",
          "name": "stderr",
          "text": [
            "/usr/local/lib/python3.7/dist-packages/ipykernel_launcher.py:4: UserWarning: `Model.predict_generator` is deprecated and will be removed in a future version. Please use `Model.predict`, which supports generators.\n",
            "  after removing the cwd from sys.path.\n"
          ]
        },
        {
          "output_type": "stream",
          "name": "stdout",
          "text": [
            "188/188 [==============================] - 62s 332ms/step\n"
          ]
        }
      ]
    },
    {
      "cell_type": "code",
      "source": [
        "predicted_class_indices_weight=np.argmax(pred_weight,axis=1)\n",
        "labels_weight = (train_generator_weight.class_indices)\n",
        "labels_weight = dict((v,k) for k,v in labels_weight.items())\n",
        "predictions_weight = [labels_weight[k] for k in predicted_class_indices_weight]"
      ],
      "metadata": {
        "id": "9KNPx5-oeYXS"
      },
      "execution_count": null,
      "outputs": []
    },
    {
      "cell_type": "code",
      "source": [
        "filenames_weight=test_generator_weight.filenames\n",
        "results_weight=pd.DataFrame({\"id\":filenames_weight,\n",
        "                      \"predicted_weight\":predictions_weight})\n",
        "results_weight.to_csv(\"/content/results_weight.csv\",index=False)\n",
        "model_weight.save('/content/models/model_weight.h5')"
      ],
      "metadata": {
        "id": "ptdkmXq1eYXS"
      },
      "execution_count": null,
      "outputs": []
    },
    {
      "cell_type": "code",
      "source": [
        ""
      ],
      "metadata": {
        "id": "7tRVBhUqVCLg"
      },
      "execution_count": null,
      "outputs": []
    }
  ]
}